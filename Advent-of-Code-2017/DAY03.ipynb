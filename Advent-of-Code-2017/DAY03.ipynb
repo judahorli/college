{
 "cells": [
  {
   "cell_type": "code",
   "execution_count": 1,
   "metadata": {
    "collapsed": true
   },
   "outputs": [],
   "source": [
    "import pandas as pd\n",
    "import itertools\n",
    "import numpy as np"
   ]
  },
  {
   "cell_type": "markdown",
   "metadata": {
    "collapsed": true
   },
   "source": [
    "# Day 3 Part 1"
   ]
  },
  {
   "cell_type": "code",
   "execution_count": 7,
   "metadata": {},
   "outputs": [],
   "source": [
    "our_puzzle_num = 289326\n",
    "nearest_odd_square = 289444 # 538 - 1 steps away\n",
    "np.sqrt(289444)\n",
    "\n",
    "nearest_odd_square - our_puzzle_num # 118 steps away from the nearest odd perf square\n",
    "sol = 537 - 118"
   ]
  },
  {
   "cell_type": "markdown",
   "metadata": {},
   "source": [
    "### Solution is NOT MINE\n",
    "### Solution from https://github.com/vesche/adventofcode-2017/blob/master/day03.py "
   ]
  },
  {
   "cell_type": "code",
   "execution_count": 3,
   "metadata": {},
   "outputs": [
    {
     "name": "stdout",
     "output_type": "stream",
     "text": [
      "419\n",
      "295229\n"
     ]
    }
   ],
   "source": [
    "#!/usr/bin/env python\n",
    "\n",
    "with open('day03.input') as f:\n",
    "    data = int(f.read().rstrip())\n",
    "\n",
    "coords = [(1, 0), (1, -1), (0, -1), (-1, -1), (-1, 0), (-1, 1), (0, 1), (1, 1)]\n",
    "\n",
    "def part1(goal):\n",
    "    x = y = dx = 0\n",
    "    dy = -1\n",
    "    step = 0\n",
    "\n",
    "    while True:\n",
    "        step += 1\n",
    "        if goal == step:\n",
    "            return abs(x) + abs(y)\n",
    "        if (x == y) or (x < 0 and x == -y) or (x > 0 and x == 1-y):\n",
    "            dx, dy = -dy, dx\n",
    "        x, y = x+dx, y+dy\n",
    "\n",
    "def part2(goal):\n",
    "    x = y = dx = 0\n",
    "    dy = -1\n",
    "    grid = {}\n",
    "\n",
    "    while True:\n",
    "        total = 0\n",
    "        for offset in coords:\n",
    "            ox, oy = offset\n",
    "            if (x+ox, y+oy) in grid:\n",
    "                total += grid[(x+ox, y+oy)]\n",
    "        if total > int(goal):\n",
    "            return total\n",
    "        if (x, y) == (0, 0):\n",
    "            grid[(0, 0)] = 1\n",
    "        else:\n",
    "            grid[(x, y)] = total\n",
    "        if (x == y) or (x < 0 and x == -y) or (x > 0 and x == 1-y):\n",
    "            dx, dy = -dy, dx\n",
    "        x, y = x+dx, y+dy\n",
    "\n",
    "print(part1(data))\n",
    "print(part2(data))"
   ]
  },
  {
   "cell_type": "code",
   "execution_count": null,
   "metadata": {
    "collapsed": true
   },
   "outputs": [],
   "source": []
  }
 ],
 "metadata": {
  "kernelspec": {
   "display_name": "Python 3",
   "language": "python",
   "name": "python3"
  },
  "language_info": {
   "codemirror_mode": {
    "name": "ipython",
    "version": 3
   },
   "file_extension": ".py",
   "mimetype": "text/x-python",
   "name": "python",
   "nbconvert_exporter": "python",
   "pygments_lexer": "ipython3",
   "version": "3.6.1"
  }
 },
 "nbformat": 4,
 "nbformat_minor": 2
}

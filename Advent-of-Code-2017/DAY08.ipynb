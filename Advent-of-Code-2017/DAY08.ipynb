{
 "cells": [
  {
   "cell_type": "code",
   "execution_count": 120,
   "metadata": {},
   "outputs": [],
   "source": [
    "import re\n",
    "\n",
    "with open('day08.input') as f:\n",
    "    inp = [re.split(' ', line.rstrip()) for line in f]\n",
    "\n",
    "var ={} # keep track of variable and values\n",
    "all_ever = []\n",
    "inp\n",
    "\n",
    "def compares(compare, x, y):\n",
    "    if compare == '<':\n",
    "        return x < y\n",
    "    if compare == '>':\n",
    "        return x > y\n",
    "    if compare == '>=':\n",
    "        return x >= y\n",
    "    if compare == '<=':\n",
    "        return x <= y\n",
    "    if compare == '==':\n",
    "        return x == y\n",
    "    if compare == '!=':\n",
    "        return x != y\n",
    "    \n",
    "def update_var(key, new_value):\n",
    "    var[key] = new_value\n",
    "    \n",
    "def find_max(d):\n",
    "    return max(zip(d.values(), d.keys()))\n",
    "\n",
    "for row in inp:\n",
    "    # print('row', row)\n",
    "    if row[4] not in var.keys():\n",
    "        var[row[4]] = 0\n",
    "    if row[0] not in var.keys():\n",
    "        var[row[0]] = 0\n",
    "    if(compares(row[5], var[row[4]], int(row[6]))):\n",
    "        # print('evals true')\n",
    "        if row[1] == 'inc':\n",
    "            update_var(row[0], var[row[0]] + int(row[2]))\n",
    "    \n",
    "        if row[1] == 'dec':\n",
    "            update_var(row[0], var[row[0]] - int(row[2]))\n",
    "        \n",
    "        all_ever.append(var[row[0]]) # only ever append a new value to this list of a prev one has changed\n",
    "            \n",
    "    # else:\n",
    "        # print('evals false')\n",
    "    # print('var', var, '\\n')"
   ]
  },
  {
   "cell_type": "code",
   "execution_count": 121,
   "metadata": {},
   "outputs": [
    {
     "data": {
      "text/plain": [
       "(5075, 'jt')"
      ]
     },
     "execution_count": 121,
     "metadata": {},
     "output_type": "execute_result"
    }
   ],
   "source": [
    "find_max(var)"
   ]
  },
  {
   "cell_type": "code",
   "execution_count": 122,
   "metadata": {},
   "outputs": [
    {
     "data": {
      "text/plain": [
       "7310"
      ]
     },
     "execution_count": 122,
     "metadata": {},
     "output_type": "execute_result"
    }
   ],
   "source": [
    "max(all_ever)"
   ]
  },
  {
   "cell_type": "code",
   "execution_count": null,
   "metadata": {
    "collapsed": true
   },
   "outputs": [],
   "source": []
  }
 ],
 "metadata": {
  "kernelspec": {
   "display_name": "Python 3",
   "language": "python",
   "name": "python3"
  },
  "language_info": {
   "codemirror_mode": {
    "name": "ipython",
    "version": 3
   },
   "file_extension": ".py",
   "mimetype": "text/x-python",
   "name": "python",
   "nbconvert_exporter": "python",
   "pygments_lexer": "ipython3",
   "version": "3.6.1"
  }
 },
 "nbformat": 4,
 "nbformat_minor": 2
}

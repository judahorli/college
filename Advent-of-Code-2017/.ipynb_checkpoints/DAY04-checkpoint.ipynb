{
 "cells": [
  {
   "cell_type": "code",
   "execution_count": 331,
   "metadata": {
    "collapsed": true
   },
   "outputs": [],
   "source": [
    "import pandas as pd\n",
    "import itertools"
   ]
  },
  {
   "cell_type": "markdown",
   "metadata": {},
   "source": [
    "# Day 4 Part 1"
   ]
  },
  {
   "cell_type": "code",
   "execution_count": 332,
   "metadata": {},
   "outputs": [],
   "source": [
    "# read in full input and split\n",
    "with open('day04.input') as f:\n",
    "    content = f.readlines()\n",
    "\n",
    "content = [x.strip() for x in content] \n",
    "\n",
    "split = []\n",
    "\n",
    "for items in content:\n",
    "    items_split = items.split(' ')\n",
    "    split.append(items_split)"
   ]
  },
  {
   "cell_type": "code",
   "execution_count": 333,
   "metadata": {
    "collapsed": true
   },
   "outputs": [],
   "source": [
    "# read in sample input and split\n",
    "with open('day04-small.input') as f:\n",
    "    sm_content = f.readlines()\n",
    "\n",
    "sm_content = [x.strip() for x in sm_content] \n",
    "sm_split = []\n",
    "\n",
    "for items in sm_content:\n",
    "    items_split = items.split(' ')\n",
    "    sm_split.append(items_split)"
   ]
  },
  {
   "cell_type": "code",
   "execution_count": 334,
   "metadata": {},
   "outputs": [],
   "source": [
    "passphrase_golden = 0\n",
    "count_dupes = {}\n",
    "listofdicts = []\n",
    "\n",
    "for row in split:\n",
    "    count_dupes = {}\n",
    "    for word in row:\n",
    "        if word not in count_dupes:\n",
    "            count_dupes[word] = 0\n",
    "        count_dupes[word] += 1\n",
    "    if all(x == 1 for x in count_dupes.values()):\n",
    "        passphrase_golden += 1"
   ]
  },
  {
   "cell_type": "code",
   "execution_count": 335,
   "metadata": {},
   "outputs": [
    {
     "data": {
      "text/plain": [
       "386"
      ]
     },
     "execution_count": 335,
     "metadata": {},
     "output_type": "execute_result"
    }
   ],
   "source": [
    "passphrase_golden"
   ]
  },
  {
   "cell_type": "code",
   "execution_count": 336,
   "metadata": {},
   "outputs": [],
   "source": [
    "# make it a function for ease\n",
    "def passphrase_check_p1(phrase_list):\n",
    "    passphrase_golden = 0\n",
    "    for row in phrase_list:\n",
    "        count_dupes = {}\n",
    "        for word in row:\n",
    "            if word not in count_dupes:\n",
    "                count_dupes[word] = 0\n",
    "            count_dupes[word] += 1\n",
    "        if all(x==1 for x in count_dupes.values()):\n",
    "            passphrase_golden +=1\n",
    "    return passphrase_golden"
   ]
  },
  {
   "cell_type": "code",
   "execution_count": 337,
   "metadata": {},
   "outputs": [
    {
     "name": "stdout",
     "output_type": "stream",
     "text": [
      "386\n"
     ]
    }
   ],
   "source": [
    "print(passphrase_check_p1(split))"
   ]
  },
  {
   "cell_type": "markdown",
   "metadata": {},
   "source": [
    "# Day 4 Part 2"
   ]
  },
  {
   "cell_type": "code",
   "execution_count": 338,
   "metadata": {
    "collapsed": true
   },
   "outputs": [],
   "source": [
    "# read in part 3 sample input and split by ' ' delineater\n",
    "with open('day04-small2.input') as f:\n",
    "    sm2_content = f.readlines()\n",
    "\n",
    "sm2_content = [x.strip() for x in sm2_content] \n",
    "sm2_split = []\n",
    "\n",
    "for items in sm2_content:\n",
    "    items_split = items.split(' ')\n",
    "    sm2_split.append(items_split)"
   ]
  },
  {
   "cell_type": "code",
   "execution_count": 339,
   "metadata": {},
   "outputs": [
    {
     "data": {
      "text/plain": [
       "[['abcde', 'fghij'],\n",
       " ['abcde', 'xyz', 'ecdab'],\n",
       " ['a', 'ab', 'abc', 'abd', 'abf', 'abj'],\n",
       " ['iiii', 'oiii', 'ooii', 'oooi', 'oooo'],\n",
       " ['oiii', 'ioii', 'iioi', 'iiio']]"
      ]
     },
     "execution_count": 339,
     "metadata": {},
     "output_type": "execute_result"
    }
   ],
   "source": [
    "sm2_split"
   ]
  },
  {
   "cell_type": "code",
   "execution_count": 340,
   "metadata": {},
   "outputs": [],
   "source": [
    "# in addition to the p1 check, words cannot be anagrams of each other"
   ]
  },
  {
   "cell_type": "code",
   "execution_count": 351,
   "metadata": {},
   "outputs": [],
   "source": [
    "def split_letters(splitit):\n",
    "    letterssplit = []\n",
    "    chunk_split = []\n",
    "    for item in splitit:\n",
    "        letterssplit = []\n",
    "        for word in item:\n",
    "            letterssplit.append(list(word))\n",
    "        chunk_split.append(letterssplit)\n",
    "    \n",
    "    return(chunk_split)"
   ]
  },
  {
   "cell_type": "code",
   "execution_count": 352,
   "metadata": {},
   "outputs": [],
   "source": [
    "def anagram_sort(chunk_split):\n",
    "    sorted_chunks = []\n",
    "    for listitem in enumerate(chunk_split):\n",
    "        idx, obj = listitem\n",
    "        obj = sorted(obj)\n",
    "        short_list = []\n",
    "        for item in enumerate(obj):\n",
    "            idx2, obj2 = item\n",
    "            obj2 = sorted(obj2)\n",
    "            short_list.append(sorted(obj2))\n",
    "        sorted_chunks.append(short_list)\n",
    "    return(sorted_chunks)"
   ]
  },
  {
   "cell_type": "code",
   "execution_count": 353,
   "metadata": {},
   "outputs": [
    {
     "data": {
      "text/plain": [
       "[[['a', 'b', 'c', 'd', 'e'], ['f', 'g', 'h', 'i', 'j']],\n",
       " [['a', 'b', 'c', 'd', 'e'], ['x', 'y', 'z'], ['e', 'c', 'd', 'a', 'b']],\n",
       " [['a'],\n",
       "  ['a', 'b'],\n",
       "  ['a', 'b', 'c'],\n",
       "  ['a', 'b', 'd'],\n",
       "  ['a', 'b', 'f'],\n",
       "  ['a', 'b', 'j']],\n",
       " [['i', 'i', 'i', 'i'],\n",
       "  ['o', 'i', 'i', 'i'],\n",
       "  ['o', 'o', 'i', 'i'],\n",
       "  ['o', 'o', 'o', 'i'],\n",
       "  ['o', 'o', 'o', 'o']],\n",
       " [['o', 'i', 'i', 'i'],\n",
       "  ['i', 'o', 'i', 'i'],\n",
       "  ['i', 'i', 'o', 'i'],\n",
       "  ['i', 'i', 'i', 'o']]]"
      ]
     },
     "execution_count": 353,
     "metadata": {},
     "output_type": "execute_result"
    }
   ],
   "source": [
    "split_letters(sm2_split)"
   ]
  },
  {
   "cell_type": "code",
   "execution_count": 354,
   "metadata": {},
   "outputs": [],
   "source": [
    "chunky = anagram_sort(split_letters(sm2_split))"
   ]
  },
  {
   "cell_type": "code",
   "execution_count": 355,
   "metadata": {},
   "outputs": [],
   "source": [
    "def put_back_together(chunky):\n",
    "    newchunky = []\n",
    "    for itemlist in chunky:\n",
    "        newlist = []\n",
    "        for item in itemlist:\n",
    "            newlist.append(''.join(item))\n",
    "        newchunky.append(newlist)\n",
    "    return newchunky"
   ]
  },
  {
   "cell_type": "code",
   "execution_count": 358,
   "metadata": {},
   "outputs": [],
   "source": [
    "def passphrase_check_p2(phrase_list):\n",
    "    phrase_list = split_letters(phrase_list)\n",
    "    #print('split: ', phrase_list)\n",
    "    phrase_list = anagram_sort(phrase_list)\n",
    "    #print('anagramed: ', phrase_list)\n",
    "    phrase_list = put_back_together(phrase_list)\n",
    "    #print('together again: ', phrase_list)\n",
    "    passphrase_golden = 0\n",
    "    for row in phrase_list:\n",
    "        count_dupes = {}\n",
    "        for word in row:\n",
    "            if word not in count_dupes:\n",
    "                count_dupes[word] = 0\n",
    "            count_dupes[word] += 1\n",
    "        if all(x==1 for x in count_dupes.values()):\n",
    "            passphrase_golden +=1\n",
    "    return passphrase_golden"
   ]
  },
  {
   "cell_type": "code",
   "execution_count": 360,
   "metadata": {},
   "outputs": [
    {
     "data": {
      "text/plain": [
       "208"
      ]
     },
     "execution_count": 360,
     "metadata": {},
     "output_type": "execute_result"
    }
   ],
   "source": [
    "passphrase_check_p2(split)"
   ]
  },
  {
   "cell_type": "markdown",
   "metadata": {},
   "source": [
    "#### note: change variable to pass by reference to reduce clunkiness in passphrase_check_p2"
   ]
  },
  {
   "cell_type": "code",
   "execution_count": null,
   "metadata": {
    "collapsed": true
   },
   "outputs": [],
   "source": []
  }
 ],
 "metadata": {
  "kernelspec": {
   "display_name": "Python 3",
   "language": "python",
   "name": "python3"
  },
  "language_info": {
   "codemirror_mode": {
    "name": "ipython",
    "version": 3
   },
   "file_extension": ".py",
   "mimetype": "text/x-python",
   "name": "python",
   "nbconvert_exporter": "python",
   "pygments_lexer": "ipython3",
   "version": "3.6.1"
  }
 },
 "nbformat": 4,
 "nbformat_minor": 2
}

{
 "cells": [
  {
   "cell_type": "code",
   "execution_count": 277,
   "metadata": {
    "collapsed": true
   },
   "outputs": [],
   "source": [
    "banks_input = [14,0,15,12,11,11,3,5,1,6,8,4,9,1,8,4]\n",
    "sample_input = [0, 2, 9, 5, 2]\n",
    "\n",
    "def bank_count(banks):\n",
    "    seen = []\n",
    "    tot = 0\n",
    "    while banks not in seen:\n",
    "        seen.append(banks[:])\n",
    "        idx = banks.index(max(banks))\n",
    "        max_bank = banks[idx]\n",
    "        banks[idx] = 0\n",
    "\n",
    "        while max_bank > 0:\n",
    "            idx = idx + 1 if idx < len(banks) - 1 else 0\n",
    "            banks[idx] += 1\n",
    "            max_bank -= 1\n",
    "        tot = tot + 1\n",
    "    print(banks)\n",
    "    print(seen)\n",
    "    return tot, len(seen) - seen.index(banks) \n",
    "\n",
    "# how many redistribute cycles between seeing it the 1 time and seeing it the 2"
   ]
  },
  {
   "cell_type": "code",
   "execution_count": 278,
   "metadata": {},
   "outputs": [
    {
     "name": "stdout",
     "output_type": "stream",
     "text": [
      "[3, 2, 1, 7, 5]\n",
      "[[0, 2, 9, 5, 2], [2, 4, 1, 7, 4], [4, 5, 2, 1, 6], [6, 6, 3, 2, 1], [1, 8, 4, 3, 2], [2, 1, 6, 5, 4], [3, 2, 1, 7, 5], [5, 3, 2, 1, 7], [7, 5, 3, 2, 1], [1, 7, 5, 3, 2], [2, 1, 7, 5, 3]]\n"
     ]
    }
   ],
   "source": [
    "steps, loops = bank_count(sample_input)"
   ]
  },
  {
   "cell_type": "code",
   "execution_count": 279,
   "metadata": {},
   "outputs": [
    {
     "name": "stdout",
     "output_type": "stream",
     "text": [
      "11 5\n"
     ]
    }
   ],
   "source": [
    "print(steps, loops)"
   ]
  },
  {
   "cell_type": "code",
   "execution_count": null,
   "metadata": {
    "collapsed": true
   },
   "outputs": [],
   "source": []
  }
 ],
 "metadata": {
  "kernelspec": {
   "display_name": "Python 3",
   "language": "python",
   "name": "python3"
  },
  "language_info": {
   "codemirror_mode": {
    "name": "ipython",
    "version": 3
   },
   "file_extension": ".py",
   "mimetype": "text/x-python",
   "name": "python",
   "nbconvert_exporter": "python",
   "pygments_lexer": "ipython3",
   "version": "3.6.1"
  }
 },
 "nbformat": 4,
 "nbformat_minor": 2
}

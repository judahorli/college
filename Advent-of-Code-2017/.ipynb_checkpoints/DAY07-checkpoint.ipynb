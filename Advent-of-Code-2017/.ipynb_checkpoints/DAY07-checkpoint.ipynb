{
 "cells": [
  {
   "cell_type": "code",
   "execution_count": 73,
   "metadata": {
    "collapsed": true
   },
   "outputs": [],
   "source": [
    "from anytree import Node, RenderTree\n",
    "import re"
   ]
  },
  {
   "cell_type": "code",
   "execution_count": 105,
   "metadata": {},
   "outputs": [],
   "source": [
    "with open('day07-sm.input') as f:\n",
    "    trinfo = [line.rstrip() for line in f] # a funny portmanteau of \"tree\" and \"info.\" I'm a genius."
   ]
  },
  {
   "cell_type": "code",
   "execution_count": 106,
   "metadata": {},
   "outputs": [],
   "source": [
    "newtree = []\n",
    "for row in trinfo:\n",
    "    row = re.split(' |->|\\(|\\)|,', row)\n",
    "    row = list(filter(None, row))\n",
    "    newtree.append(row)"
   ]
  },
  {
   "cell_type": "code",
   "execution_count": 107,
   "metadata": {},
   "outputs": [
    {
     "data": {
      "text/plain": [
       "[['pbga', '66'],\n",
       " ['xhth', '57'],\n",
       " ['ebii', '61'],\n",
       " ['havc', '66'],\n",
       " ['ktlj', '57'],\n",
       " ['fwft', '72', 'ktlj', 'cntj', 'xhth'],\n",
       " ['qoyq', '66'],\n",
       " ['padx', '45', 'pbga', 'havc', 'qoyq'],\n",
       " ['tknk', '41', 'ugml', 'padx', 'fwft'],\n",
       " ['jptl', '61'],\n",
       " ['ugml', '68', 'gyxo', 'ebii', 'jptl'],\n",
       " ['gyxo', '61'],\n",
       " ['cntj', '57']]"
      ]
     },
     "execution_count": 107,
     "metadata": {},
     "output_type": "execute_result"
    }
   ],
   "source": [
    "newtree"
   ]
  },
  {
   "cell_type": "code",
   "execution_count": 116,
   "metadata": {},
   "outputs": [],
   "source": [
    "tree_list = []\n",
    "\n",
    "for item in newtree:\n",
    "    if len(item) is 2:\n",
    "        tree_list.append(Node(item[0]))\n",
    "    else:\n",
    "        tree_list.append(Node(item[0]))\n",
    "        for new in item[2:]:\n",
    "            tree_list.append(Node(new, parent = Node(item[0])))"
   ]
  },
  {
   "cell_type": "code",
   "execution_count": 114,
   "metadata": {},
   "outputs": [
    {
     "data": {
      "text/plain": [
       "[Node('/pbga'),\n",
       " Node('/xhth'),\n",
       " Node('/ebii'),\n",
       " Node('/havc'),\n",
       " Node('/ktlj'),\n",
       " Node('/fwft'),\n",
       " Node('/fwft/ktlj'),\n",
       " Node('/fwft/cntj'),\n",
       " Node('/fwft/xhth'),\n",
       " Node('/qoyq'),\n",
       " Node('/padx'),\n",
       " Node('/padx/pbga'),\n",
       " Node('/padx/havc'),\n",
       " Node('/padx/qoyq'),\n",
       " Node('/tknk'),\n",
       " Node('/tknk/ugml'),\n",
       " Node('/tknk/padx'),\n",
       " Node('/tknk/fwft'),\n",
       " Node('/jptl'),\n",
       " Node('/ugml'),\n",
       " Node('/ugml/gyxo'),\n",
       " Node('/ugml/ebii'),\n",
       " Node('/ugml/jptl'),\n",
       " Node('/gyxo'),\n",
       " Node('/cntj')]"
      ]
     },
     "execution_count": 114,
     "metadata": {},
     "output_type": "execute_result"
    }
   ],
   "source": [
    "tree_list \n",
    "# how to merge parent/child nodes when parent = child? \n",
    "# like /tknk/fwft and /fwft/ktlj, want to make it /tknk/fwft/ktlj"
   ]
  },
  {
   "cell_type": "markdown",
   "metadata": {},
   "source": [
    "A SOLUTION THAT IS NOT MINE, FROM Cole_from_SE on REDDIT"
   ]
  },
  {
   "cell_type": "code",
   "execution_count": 104,
   "metadata": {},
   "outputs": [
    {
     "name": "stdout",
     "output_type": "stream",
     "text": [
      "fbgguv\n",
      "1864\n"
     ]
    }
   ],
   "source": [
    "from collections import defaultdict, Counter\n",
    "\n",
    "def find_root(children):\n",
    "    # All nodes in the tree minus all nodes that are children.\n",
    "    # N.B. sum(list of lists, []) flattens a list of lists because of how + is\n",
    "    # overloaded in Python.\n",
    "    root = set(children.keys()) - set(sum(children.values(),[]))\n",
    "    # The root should be a single item, so we should be able to safely pop it.\n",
    "    return root.pop()\n",
    "\n",
    "def find_weight(weights, children, node, memo={}):\n",
    "    # Recursively add the weight of the node to the weight of its children.\n",
    "    return weights[node] + sum([find_weight(weights, children, child, memo) for\n",
    "                                child in children[node]])\n",
    "\n",
    "def find_imbalance(weights, children, node):\n",
    "    # If we're at a leaf node, we can't find an imbalance.\n",
    "    if not children[node]: return \n",
    "    child_weights = [find_weight(weights, children, child) for child in\n",
    "                     children[node]]\n",
    "    weight_counts = Counter(child_weights)\n",
    "    # Exit early if everything is the same.\n",
    "    if len(weight_counts) <= 1: return\n",
    "    # The least frequent value will be the differing value.\n",
    "    # N.B. Counter.most_common() returns all counts, ordered in reverse by\n",
    "    # frequency. [-1] gets the last, and [0] gets the weight.\n",
    "    least_frequent_weight = weight_counts.most_common()[-1][0]\n",
    "    # N.B. child_weights and children[node] are in the same order.\n",
    "    lfw_node = children[node][child_weights.index(least_frequent_weight)]\n",
    "    # Try to find an imbalance deeper into the tree (we want to get to the leaf\n",
    "    # of the problem).\n",
    "    deeper_imbalance = find_imbalance(weights, children, lfw_node)\n",
    "    if deeper_imbalance:\n",
    "        return deeper_imbalance\n",
    "    else:\n",
    "        most_frequent_weight = weight_counts.most_common(1)[0][0]\n",
    "        imbalance = most_frequent_weight - least_frequent_weight\n",
    "        return weights[lfw_node] + imbalance\n",
    "\n",
    "\n",
    "with open('day07.input') as inp:\n",
    "    # The weight of a node.\n",
    "    weights = {}\n",
    "    # Adjacency list with node as the key.\n",
    "    children = defaultdict(list)\n",
    "    for line in inp.readlines():\n",
    "        # Lines look like 'node (value) -> child1 child2 child3 ...'\n",
    "        node, weight, *child_nodes = line.strip().split(' ')\n",
    "        # Strip parentheses and convert an int.\n",
    "        weight = int(weight.strip('()'))\n",
    "        weights[node] = weight\n",
    "        if child_nodes:\n",
    "            # Remove the arrow ('->') and the commas after each child.\n",
    "            children[node] = [child.strip(',') for child in child_nodes[1:]]\n",
    "\n",
    "    # Part 1.\n",
    "    root = find_root(children)\n",
    "    print(root)\n",
    "\n",
    "    # Part 2.\n",
    "    print(find_imbalance(weights, children, root))"
   ]
  },
  {
   "cell_type": "code",
   "execution_count": null,
   "metadata": {
    "collapsed": true
   },
   "outputs": [],
   "source": []
  },
  {
   "cell_type": "code",
   "execution_count": null,
   "metadata": {
    "collapsed": true
   },
   "outputs": [],
   "source": []
  }
 ],
 "metadata": {
  "kernelspec": {
   "display_name": "Python 3",
   "language": "python",
   "name": "python3"
  },
  "language_info": {
   "codemirror_mode": {
    "name": "ipython",
    "version": 3
   },
   "file_extension": ".py",
   "mimetype": "text/x-python",
   "name": "python",
   "nbconvert_exporter": "python",
   "pygments_lexer": "ipython3",
   "version": "3.6.1"
  }
 },
 "nbformat": 4,
 "nbformat_minor": 2
}

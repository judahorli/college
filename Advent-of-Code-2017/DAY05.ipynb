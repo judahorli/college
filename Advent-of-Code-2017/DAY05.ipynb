{
 "cells": [
  {
   "cell_type": "code",
   "execution_count": 85,
   "metadata": {},
   "outputs": [],
   "source": [
    "with open('day05.input') as f:\n",
    "    content = [line.rstrip() for line in f]"
   ]
  },
  {
   "cell_type": "code",
   "execution_count": 86,
   "metadata": {},
   "outputs": [],
   "source": [
    "def listtypestoint(l, dtype):\n",
    "    return list(map(dtype, l))"
   ]
  },
  {
   "cell_type": "code",
   "execution_count": 87,
   "metadata": {
    "collapsed": true
   },
   "outputs": [],
   "source": [
    "content = listtypestoint(content, int)\n",
    "\n",
    "content_copy = content"
   ]
  },
  {
   "cell_type": "code",
   "execution_count": 88,
   "metadata": {
    "collapsed": true
   },
   "outputs": [],
   "source": [
    "sample_l = [0,3,0,1,-3]"
   ]
  },
  {
   "cell_type": "code",
   "execution_count": 89,
   "metadata": {},
   "outputs": [],
   "source": [
    "def maze_jumps(l, part2):\n",
    "    idx = 0\n",
    "    steps = 0\n",
    "    while idx >= 0 and idx < len(l):\n",
    "        if l[idx]>=3 and part2 == True: # part 2\n",
    "            l[idx]-=1\n",
    "            idx+=l[idx]+1\n",
    "        else:\n",
    "            l[idx]+=1 #whatever index you're at, add one to the value\n",
    "            idx+=l[idx]-1 #go to the next index by jumping by the value at that index\n",
    "        steps+=1\n",
    "    return steps"
   ]
  },
  {
   "cell_type": "code",
   "execution_count": 90,
   "metadata": {},
   "outputs": [
    {
     "data": {
      "text/plain": [
       "27720699"
      ]
     },
     "execution_count": 90,
     "metadata": {},
     "output_type": "execute_result"
    }
   ],
   "source": [
    "maze_jumps(content_copy, True)"
   ]
  },
  {
   "cell_type": "code",
   "execution_count": null,
   "metadata": {
    "collapsed": true
   },
   "outputs": [],
   "source": []
  }
 ],
 "metadata": {
  "kernelspec": {
   "display_name": "Python 3",
   "language": "python",
   "name": "python3"
  },
  "language_info": {
   "codemirror_mode": {
    "name": "ipython",
    "version": 3
   },
   "file_extension": ".py",
   "mimetype": "text/x-python",
   "name": "python",
   "nbconvert_exporter": "python",
   "pygments_lexer": "ipython3",
   "version": "3.6.1"
  }
 },
 "nbformat": 4,
 "nbformat_minor": 2
}
